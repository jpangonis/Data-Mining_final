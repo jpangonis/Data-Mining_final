{
 "cells": [
  {
   "cell_type": "code",
   "execution_count": 3,
   "id": "041d5f73",
   "metadata": {},
   "outputs": [],
   "source": [
    "import subprocess\n",
    "\n",
    "#%store -r average_rating_by_store\n",
    "#%store -r vaders_sorted\n",
    "\n",
    "\n",
    "\n",
    "# Function to run analysis based on user command\n",
    "def run_analysis(command):\n",
    "    if ('sentiment' in command) or ('corr' in command):\n",
    "        subprocess.run(['jupyter', 'nbconvert', '--execute', 'rating.ipynb'])\n",
    "        return retrieve_sentiment_results()  # Retrieve sentiment analysis results\n",
    "        \n",
    "    elif ('tfidf' in command) or ('cluster' in command):\n",
    "        subprocess.run(['jupyter', 'nbconvert', '--execute', 'reviews.ipynb'])\n",
    "        return retrieve_tfidf_clustering_results()  # Retrieve TF-IDF and clustering results\n",
    "        \n",
    "    elif ('geo' in command) or ('location' in command):\n",
    "        subprocess.run(['jupyter', 'nbconvert', '--execute', 'geographical.ipynb'])\n",
    "        return retrieve_geographical_results()  # Retrieve geographical analysis results\n",
    "        \n",
    "    else:\n",
    "        return \"Sorry, I couldn't understand that command.\"\n",
    "\n",
    "# Placeholder function to retrieve sentiment analysis results\n",
    "def retrieve_sentiment_results():\n",
    "    # Placeholder code - Replace this with actual retrieval logic based on your sentiment analysis output\n",
    "    sentiment_results = \"Sentiment analysis results: [Placeholder results]\"\n",
    "    #ax = sns.barplot(data=vaders_sorted, x='rating', y='compound')\n",
    "    #ax.set_title('Compound Score by McDonalds Star Reviews')\n",
    "    #plt.show()\n",
    "    return sentiment_results\n",
    "\n",
    "# Placeholder function to retrieve TF-IDF and clustering results\n",
    "def retrieve_tfidf_clustering_results():\n",
    "    # Placeholder code - Replace this with actual retrieval logic based on your TF-IDF and clustering output\n",
    "    tfidf_clustering_results = \"TF-IDF and Clustering results: [Placeholder results]\"\n",
    "    return tfidf_clustering_results\n",
    "\n",
    "# Placeholder function to retrieve geographical analysis results\n",
    "def retrieve_geographical_results():\n",
    "    # Placeholder code - Replace this with actual retrieval logic based on your geographical analysis output\n",
    "    geographical_results = \"Geographical analysis results: [Placeholder results]\"\n",
    "    #geographical_results += str(average_rating_by_store)\n",
    "    return geographical_results"
   ]
  },
  {
   "cell_type": "code",
   "execution_count": 4,
   "id": "4a51b51f",
   "metadata": {},
   "outputs": [
    {
     "name": "stdout",
     "output_type": "stream",
     "text": [
      "Chatbot: Hi! What analysis would you like to perform?\n",
      "User: location\n",
      "Chatbot: Geographical analysis results: [Placeholder results]\n",
      "User: geo\n",
      "Chatbot: Geographical analysis results: [Placeholder results]\n",
      "User: cluster\n",
      "Chatbot: TF-IDF and Clustering results: [Placeholder results]\n",
      "User: correlation\n",
      "Chatbot: Sentiment analysis results: [Placeholder results]\n",
      "User: exit\n",
      "Chatbot: Bye!\n"
     ]
    }
   ],
   "source": [
    "# Chat function to interact with the chatbot\n",
    "def chat():\n",
    "    print(\"Chatbot: Hi! What analysis would you like to perform?\")\n",
    "    while True:\n",
    "        user_input = input(\"User: \")\n",
    "        \n",
    "        if user_input.lower() == 'exit':\n",
    "            print(\"Chatbot: Bye!\")\n",
    "            break\n",
    "        \n",
    "        response = run_analysis(user_input.lower())\n",
    "        print(f\"Chatbot: {response}\")\n",
    "\n",
    "# Start the chat\n",
    "chat()\n"
   ]
  }
 ],
 "metadata": {
  "kernelspec": {
   "display_name": "Python 3 (ipykernel)",
   "language": "python",
   "name": "python3"
  },
  "language_info": {
   "codemirror_mode": {
    "name": "ipython",
    "version": 3
   },
   "file_extension": ".py",
   "mimetype": "text/x-python",
   "name": "python",
   "nbconvert_exporter": "python",
   "pygments_lexer": "ipython3",
   "version": "3.7.9"
  }
 },
 "nbformat": 4,
 "nbformat_minor": 5
}
