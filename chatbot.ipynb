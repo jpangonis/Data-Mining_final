{
 "cells": [
  {
   "cell_type": "code",
   "execution_count": 1,
   "id": "041d5f73",
   "metadata": {},
   "outputs": [],
   "source": [
    "import subprocess\n",
    "from IPython.core.getipython import get_ipython\n",
    "from IPython.utils import io\n",
    "\n",
    "#%store -r average_rating_by_store\n",
    "#%store -r vaders_sorted\n",
    "\n",
    "\n",
    "\n",
    "# Function to run analysis based on user command\n",
    "def run_analysis(command):\n",
    "    if ('sentiment' in command) or ('corr' in command):\n",
    "        subprocess.run(['jupyter', 'nbconvert', '--execute', 'rating.ipynb'])\n",
    "        %run rating.ipynb\n",
    "        \n",
    "    elif ('tfidf' in command) or ('cluster' in command):\n",
    "        subprocess.run(['jupyter', 'nbconvert', '--execute', 'reviews.ipynb'])\n",
    "        %run reviews.ipynb\n",
    "        #return retrieve_tfidf_clustering_results()  # Retrieve TF-IDF and clustering results\n",
    "        \n",
    "    elif ('geo' in command) or ('location' in command):\n",
    "        subprocess.run(['jupyter', 'nbconvert', '--execute', 'geographical.ipynb'])\n",
    "        %run geographical.ipynb\n",
    "\n",
    "    elif ('predict' in command) or ('sentiment' in command):\n",
    "        subprocess.run(['jupyter', 'nbconvert', '--execute', 'predicting.ipynb'])\n",
    "        %run predicting.ipynb\n",
    "    else:\n",
    "        return \"Sorry, I couldn't understand that command.\"\n"
   ]
  },
  {
   "cell_type": "code",
   "execution_count": 2,
   "metadata": {},
   "outputs": [
    {
     "name": "stdout",
     "output_type": "stream",
     "text": [
      "Chatbot: Hi! What analysis would you like to perform?\n",
      "User:  predict\n",
      "Chatbot: \n"
     ]
    },
    {
     "name": "stderr",
     "output_type": "stream",
     "text": [
      "[nltk_data] Downloading package vader_lexicon to\n",
      "[nltk_data]     C:\\Users\\julia\\AppData\\Roaming\\nltk_data...\n",
      "[nltk_data]   Package vader_lexicon is already up-to-date!\n"
     ]
    },
    {
     "name": "stdout",
     "output_type": "stream",
     "text": [
      "Accuracy: 0.8868263473053892\n",
      "Classification Report:\n",
      "              precision    recall  f1-score   support\n",
      "\n",
      "    Negative       0.81      0.88      0.84      1937\n",
      "     Neutral       0.88      0.82      0.85      1244\n",
      "    Positive       0.93      0.91      0.92      3499\n",
      "\n",
      "    accuracy                           0.89      6680\n",
      "   macro avg       0.88      0.87      0.87      6680\n",
      "weighted avg       0.89      0.89      0.89      6680\n",
      "\n",
      "Predicted sentiment: Positive\n",
      "Chatbot: Hi! Please write a review\n",
      "User:  the food was awesome\n",
      "Chatbot: Predicted sentiment:  Positive\n",
      "Chatbot: Please write another review\n",
      "User:  \n",
      "Chatbot: Predicted sentiment:  Neutral\n",
      "Chatbot: Please write another review\n",
      "User:  exit\n",
      "Chatbot: Bye!\n",
      "Chatbot: What analysis would you like to perform?\n"
     ]
    }
   ],
   "source": [
    "# Chat function to interact with the chatbot\n",
    "def chat():\n",
    "    print(\"Chatbot: Hi! What analysis would you like to perform?\")\n",
    "    while True:\n",
    "        user_input = input(\"User: \")\n",
    "        print(\"User: \", user_input)\n",
    "        \n",
    "        if user_input.lower() == 'exit':\n",
    "            print(\"Chatbot: Bye!\")\n",
    "            break\n",
    "        \n",
    "        print(f\"Chatbot: \")\n",
    "        run_analysis(user_input.lower())\n",
    "        print(\"Chatbot: What analysis would you like to perform?\")\n",
    "\n",
    "# Start the chat\n",
    "chat()"
   ]
  }
 ],
 "metadata": {
  "kernelspec": {
   "display_name": "Python 3 (ipykernel)",
   "language": "python",
   "name": "python3"
  },
  "language_info": {
   "codemirror_mode": {
    "name": "ipython",
    "version": 3
   },
   "file_extension": ".py",
   "mimetype": "text/x-python",
   "name": "python",
   "nbconvert_exporter": "python",
   "pygments_lexer": "ipython3",
   "version": "3.11.1"
  }
 },
 "nbformat": 4,
 "nbformat_minor": 5
}
